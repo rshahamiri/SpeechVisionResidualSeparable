{
 "cells": [
  {
   "cell_type": "code",
   "execution_count": 1,
   "metadata": {},
   "outputs": [],
   "source": [
    "import shutil, os"
   ]
  },
  {
   "cell_type": "code",
   "execution_count": 2,
   "metadata": {},
   "outputs": [],
   "source": [
    "SETTINGS_DIR = os.path.dirname(os.path.realpath('__file__'))\n",
    "train_set_path = SETTINGS_DIR+'/images/Control/Train/'\n",
    "test_set_path = SETTINGS_DIR+\"/images/Control/Test/\"\n",
    "\n",
    "'''\n",
    "dnn_file_name_structure = SETTINGS_DIR +\"/cnn_control-new-Resnet.json\"\n",
    "training_dynamics_path = SETTINGS_DIR+'/TrainingDynamics-new-Resnet.csv'\n",
    "dnn_file_name_weights = SETTINGS_DIR +  \"/cnn_weight_control-new-Resnet.h5\"\n",
    "'''\n",
    "\n",
    "dnn_file_name_structure = SETTINGS_DIR +\"/cnn_control-new.json\"\n",
    "training_dynamics_path = SETTINGS_DIR+'/TrainingDynamics-new.csv'\n",
    "dnn_file_name_weights = SETTINGS_DIR +  \"/cnn_weight_control-new.h5\""
   ]
  },
  {
   "cell_type": "code",
   "execution_count": 3,
   "metadata": {
    "scrolled": true
   },
   "outputs": [],
   "source": [
    "parent = os.path.dirname(SETTINGS_DIR)\n",
    "sd_path=parent+\"/DyysarthricCNNRezaTransferLearningSD/Models\"\n",
    "#shutil.copy(dnn_file_name_structure, sd_path)\n",
    "#shutil.copy(training_dynamics_path, sd_path)\n",
    "#shutil.copy(dnn_file_name_weights, sd_path)"
   ]
  },
  {
   "cell_type": "code",
   "execution_count": 4,
   "metadata": {},
   "outputs": [
    {
     "data": {
      "text/plain": [
       "\"\\nperson_name=[]\\nfor i in range(2,6):\\n    s='F0'+str(i)\\n    person_name.append(s)\\nfor i in range(1,10):\\n    person_name.append('M0'+str(i))\\nfor i in range(10,17):\\n    person_name.append('M'+str(i))\\nprint(person_name)\\njson_list=[]\\nweight_list=[]\\nfor i in person_name:\\n    json_list.append('cnn_'+i+'.json')\\n    weight_list.append('cnn_weight_'+i+'.h5')\\nprint(json_list)\\n\""
      ]
     },
     "execution_count": 4,
     "metadata": {},
     "output_type": "execute_result"
    }
   ],
   "source": [
    "'''\n",
    "person_name=[]\n",
    "for i in range(2,6):\n",
    "    s='F0'+str(i)\n",
    "    person_name.append(s)\n",
    "for i in range(1,10):\n",
    "    person_name.append('M0'+str(i))\n",
    "for i in range(10,17):\n",
    "    person_name.append('M'+str(i))\n",
    "print(person_name)\n",
    "json_list=[]\n",
    "weight_list=[]\n",
    "for i in person_name:\n",
    "    json_list.append('cnn_'+i+'.json')\n",
    "    weight_list.append('cnn_weight_'+i+'.h5')\n",
    "print(json_list)\n",
    "'''"
   ]
  },
  {
   "cell_type": "code",
   "execution_count": 4,
   "metadata": {},
   "outputs": [
    {
     "data": {
      "text/plain": [
       "'/home/kman601/SpeechVision/DyysarthricCNNRezaTransferLearningSD/Models/cnn_weight_control.h5'"
      ]
     },
     "execution_count": 4,
     "metadata": {},
     "output_type": "execute_result"
    }
   ],
   "source": [
    "'''\n",
    "for i in json_list:\n",
    "    shutil.copy(dnn_file_name_structure,sd_path+'/'+i)\n",
    "for i in weight_list:\n",
    "    shutil.copy(dnn_file_name_weights,sd_path+'/'+i)\n",
    "'''\n",
    "shutil.copy(dnn_file_name_structure,sd_path+'/'+'cnn_control.json')\n",
    "shutil.copy(dnn_file_name_weights,sd_path+'/'+'cnn_weight_control.h5')"
   ]
  },
  {
   "cell_type": "code",
   "execution_count": null,
   "metadata": {},
   "outputs": [],
   "source": []
  },
  {
   "cell_type": "code",
   "execution_count": null,
   "metadata": {},
   "outputs": [],
   "source": []
  }
 ],
 "metadata": {
  "kernelspec": {
   "display_name": "Python 3",
   "language": "python",
   "name": "python3"
  },
  "language_info": {
   "codemirror_mode": {
    "name": "ipython",
    "version": 3
   },
   "file_extension": ".py",
   "mimetype": "text/x-python",
   "name": "python",
   "nbconvert_exporter": "python",
   "pygments_lexer": "ipython3",
   "version": "3.9.1"
  }
 },
 "nbformat": 4,
 "nbformat_minor": 4
}
